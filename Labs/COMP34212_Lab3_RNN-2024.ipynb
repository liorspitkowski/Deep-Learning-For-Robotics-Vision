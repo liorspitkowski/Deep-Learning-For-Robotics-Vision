{
  "cells": [
    {
      "cell_type": "markdown",
      "metadata": {
        "id": "JpnRb1rNp6mv"
      },
      "source": [
        "Recurrent Neural Networks (RNN): Simple RNNs and LSTMs\n",
        "=========\n",
        "\n",
        "In this tutorial we will learn how to use Recurremt Neural Networks (RNNs) for text processing.\n",
        "The first example uses a simple RNN to generate the characters in a small text corpus (Alice in Wonderland novel).\n",
        "We will then look at the Long Short Term Memory (LSTM) networks, for more advanced recurrent models. The LSTM will be tested on a sentiment analysis corpus.\n"
      ]
    },
    {
      "cell_type": "markdown",
      "metadata": {
        "id": "AjaUzq1ip6m1"
      },
      "source": [
        "1 - Simple RNNs to Generate text\n",
        "=========\n",
        "\n",
        "This exmple will use a simple RNN with one layer of hidden and recurrent units.\n",
        "\n",
        "Let's first import the usual keras and utility functions. This will include the first importing and use of the SimpleRNN recurrent layer type in Keras.\n"
      ]
    },
    {
      "cell_type": "code",
      "execution_count": null,
      "metadata": {
        "id": "gx1fsJ45p6nA"
      },
      "outputs": [],
      "source": [
        "from __future__ import print_function\n",
        "from tensorflow.keras.layers import Dense, Activation\n",
        "from tensorflow.keras.layers import SimpleRNN\n",
        "from tensorflow.keras.models import Sequential\n",
        "import numpy as np\n"
      ]
    },
    {
      "cell_type": "markdown",
      "metadata": {
        "id": "fIdP2MSmp6nP"
      },
      "source": [
        "**Loading text file and converting to clean text**\n",
        "\n",
        "This code will read the file \"alice_in_wonderland.txt\". This file is available for download here http://www.gutenberg.org/files/11/11-0.txt (and can also be downloaded from Balckboard ).\n",
        "\n",
        "The code will do some preliminary cleanup of the text (e.g. removing non-ASCII characters and line breaks) and write all words in the variable called \"whole_text\".\n"
      ]
    },
    {
      "cell_type": "code",
      "execution_count": 3,
      "metadata": {
        "colab": {
          "base_uri": "https://localhost:8080/"
        },
        "id": "KtQ15qnCp6nS",
        "outputId": "bb76d6de-71bd-4e15-cfa5-587722c751c4"
      },
      "outputs": [
        {
          "output_type": "stream",
          "name": "stdout",
          "text": [
            "Loading text file...\n",
            "Done!\n"
          ]
        }
      ],
      "source": [
        "print(\"Loading text file...\")\n",
        "\n",
        "INPUT_FILE = \"alice_in_wonderland.txt\"\n",
        "\n",
        "fin = open(INPUT_FILE, 'rb')\n",
        "lines = []\n",
        "for line in fin:\n",
        "    line = line.strip().lower()\n",
        "    line = line.decode(\"ascii\", \"ignore\")\n",
        "    if len(line) == 0:\n",
        "        continue\n",
        "    lines.append(line)\n",
        "fin.close()\n",
        "whole_text = \" \".join(lines)\n",
        "\n",
        "print(\"Done!\")\n"
      ]
    },
    {
      "cell_type": "markdown",
      "metadata": {
        "id": "tzRl-KiBp6nh"
      },
      "source": [
        "**Characters look-up table**\n",
        "\n",
        "This code will create the look-up table from the 42 characters to integer IDs, and viceversa."
      ]
    },
    {
      "cell_type": "code",
      "execution_count": 4,
      "metadata": {
        "id": "ZzNWK_g1p6nj",
        "colab": {
          "base_uri": "https://localhost:8080/"
        },
        "outputId": "ff7364af-5296-4b6f-f083-da2696bf0881"
      },
      "outputs": [
        {
          "output_type": "stream",
          "name": "stdout",
          "text": [
            "Preparing characters look-up table...\n",
            "Done!\n"
          ]
        }
      ],
      "source": [
        "print(\"Preparing characters look-up table...\")\n",
        "\n",
        "chars = set([c for c in whole_text])\n",
        "nb_chars = len(chars)\n",
        "char2index = dict((c, i) for i, c in enumerate(chars))\n",
        "index2char = dict((i, c) for i, c in enumerate(chars))\n",
        "\n",
        "print(\"Done!\")"
      ]
    },
    {
      "cell_type": "markdown",
      "metadata": {
        "id": "F5VKYsImp6nv"
      },
      "source": [
        "**Input text and output character**\n",
        "\n",
        "To create the input text, the code will step through the whole text by a number of characters defined by the __STEP__ variable (1 in our case) and then extract a set of characters whose size is determined by the __SEQLEN__ variable (10 in our case). The next character after the extracted characters is the output label, i,e. the next character to predict.\n",
        "\n",
        "Here is an example of the input/output for the part of text starting as\" it turned into a pig\"\n",
        "\n",
        "   INPUT (10)    ->   OUTPUT (1)\n",
        "- \"it turned \"   ->   i\n",
        "- \"t turned i\"   ->   n\n",
        "- \" turned in\"   ->   t\n",
        "- \"turned int\"   ->   o\n",
        "- \"urned into\"   ->\n",
        "- \"rned into \"   ->   a\n",
        "- \"ned into a\"   ->\n",
        "- \"ed into a \"   ->   p\n",
        "- \"d into a p\"   ->   i\n",
        "- \" into a pi\"   ->   g\n"
      ]
    },
    {
      "cell_type": "code",
      "execution_count": 5,
      "metadata": {
        "id": "hyS8tFKsp6nx",
        "colab": {
          "base_uri": "https://localhost:8080/"
        },
        "outputId": "d3467b8c-16e2-47e5-b2fc-782645226fff"
      },
      "outputs": [
        {
          "output_type": "stream",
          "name": "stdout",
          "text": [
            "Creating input and label text...\n",
            "Done!\n"
          ]
        }
      ],
      "source": [
        "print(\"Creating input and label text...\")\n",
        "\n",
        "SEQLEN = 10\n",
        "STEP = 1\n",
        "\n",
        "input_chars = []\n",
        "label_chars = []\n",
        "for i in range(0, len(whole_text) - SEQLEN, STEP):\n",
        "    input_chars.append(whole_text[i:i + SEQLEN])\n",
        "    label_chars.append(whole_text[i + SEQLEN])\n",
        "\n",
        "print(\"Done!\")"
      ]
    },
    {
      "cell_type": "markdown",
      "metadata": {
        "id": "yaTGaKHap6n_"
      },
      "source": [
        "**Vectorisation of the input and output**\n",
        "\n",
        "This preprares the input and output vectors of the training set.\n",
        "The input vector uses one-hot encoding of the __SEQLEN__ (10) characters present in the input text segment, times the __nb_chars__ (42) possible characters.\n",
        "The output label uses one-hot encoding for the activation of a single character out of the __nb_chars__ number of units/characters.\n"
      ]
    },
    {
      "cell_type": "code",
      "execution_count": 6,
      "metadata": {
        "id": "ssALtUABp6oC",
        "colab": {
          "base_uri": "https://localhost:8080/"
        },
        "outputId": "96badedb-c613-4fa3-987a-80ae26e78be0"
      },
      "outputs": [
        {
          "output_type": "stream",
          "name": "stdout",
          "text": [
            "Vectorizing input and label text...\n",
            "Done!\n"
          ]
        }
      ],
      "source": [
        "print(\"Vectorizing input and label text...\")\n",
        "\n",
        "X = np.zeros((len(input_chars), SEQLEN, nb_chars), dtype=bool)\n",
        "y = np.zeros((len(input_chars), nb_chars), dtype=bool)\n",
        "for i, input_char in enumerate(input_chars):\n",
        "    for j, ch in enumerate(input_char):\n",
        "        X[i, j, char2index[ch]] = 1\n",
        "    y[i, char2index[label_chars[i]]] = 1\n",
        "\n",
        "print(\"Done!\")"
      ]
    },
    {
      "cell_type": "markdown",
      "metadata": {
        "id": "lZKv1Xwep6oJ"
      },
      "source": [
        "**Simple RNN Model definition**\n",
        "\n",
        "This codes defines the key variables of the model and training, and creates the sequential model. The model consists of a simple recurrent neural network (RNN) with a hidden layer of 128 simple recurrent units.\n",
        "\n",
        "The __return_sequences__ is set to __False__ as the output only consists of one character, and not a sequence.\n",
        "The __unroll=True__ setting improves performance on the TensorFlow backend.\n",
        "The optimiser uses the __rmsprop__ for backpropagation.\n",
        "\n"
      ]
    },
    {
      "cell_type": "code",
      "execution_count": 7,
      "metadata": {
        "id": "gZFdn5ynp6oL",
        "colab": {
          "base_uri": "https://localhost:8080/"
        },
        "outputId": "e211bc23-1f07-4d6c-996e-4e7c2b8069f7"
      },
      "outputs": [
        {
          "output_type": "stream",
          "name": "stdout",
          "text": [
            "Model: \"sequential\"\n",
            "_________________________________________________________________\n",
            " Layer (type)                Output Shape              Param #   \n",
            "=================================================================\n",
            " simple_rnn (SimpleRNN)      (None, 128)               23552     \n",
            "                                                                 \n",
            " dense (Dense)               (None, 55)                7095      \n",
            "                                                                 \n",
            " activation (Activation)     (None, 55)                0         \n",
            "                                                                 \n",
            "=================================================================\n",
            "Total params: 30647 (119.71 KB)\n",
            "Trainable params: 30647 (119.71 KB)\n",
            "Non-trainable params: 0 (0.00 Byte)\n",
            "_________________________________________________________________\n"
          ]
        }
      ],
      "source": [
        "# Definition of the network and training hyperparameters\n",
        "HIDDEN_SIZE = 128\n",
        "BATCH_SIZE = 128\n",
        "NUM_ITERATIONS = 25\n",
        "NUM_EPOCHS_PER_ITERATION = 1\n",
        "NUM_PREDS_PER_EPOCH = 100\n",
        "\n",
        "# Definition of the network topology, with simpleRNN hidden layer\n",
        "model = Sequential()\n",
        "model.add(SimpleRNN(HIDDEN_SIZE, return_sequences=False, input_shape=(SEQLEN, nb_chars), unroll=True))\n",
        "model.add(Dense(nb_chars))\n",
        "model.add(Activation(\"softmax\"))\n",
        "\n",
        "model.compile(loss=\"categorical_crossentropy\", optimizer=\"rmsprop\")\n",
        "\n",
        "#show the model summary\n",
        "model.summary()"
      ]
    },
    {
      "cell_type": "markdown",
      "metadata": {
        "id": "GrEyYv-hp6oR"
      },
      "source": [
        "**Training and testing of the model**\n",
        "\n",
        "The model is trained for __NUM_ITERATIONS__ (25) epochs and tested after each epoch, to allow us to monitor the improvement of the model performance in character prediction.\n",
        "\n",
        "The test consists of generating a character from the model given a random input, then dropping the first character from the input and appending the predicted character from the previous run as the new input, to generate another character. This is done for __NUM_PREDS_PER_EPOCH__ (100) steps. The completed string gives us an indication of the quality of the model's processing of English words (within the limited lexicon of Alice's novel).\n"
      ]
    },
    {
      "cell_type": "code",
      "execution_count": 8,
      "metadata": {
        "id": "OKeEI_hup6oT",
        "colab": {
          "base_uri": "https://localhost:8080/"
        },
        "outputId": "cf481623-f62d-49fc-d3a1-c230f109d46c"
      },
      "outputs": [
        {
          "output_type": "stream",
          "name": "stdout",
          "text": [
            "==================================================\n",
            "Iteration #: 0\n",
            "1237/1237 [==============================] - 7s 4ms/step - loss: 2.3405\n",
            "Generating from seed: the queen \n",
            "the queen and the the the the the the the the the the the the the the the the the the the the the the the the \n",
            "==================================================\n",
            "Iteration #: 1\n",
            "1237/1237 [==============================] - 5s 4ms/step - loss: 2.0496\n",
            "Generating from seed: e that you\n",
            "e that you case pont in the king to she had cous in the king to she had cous in the king to she had cous in th\n",
            "==================================================\n",
            "Iteration #: 2\n",
            "1237/1237 [==============================] - 5s 4ms/step - loss: 1.9432\n",
            "Generating from seed: erything s\n",
            "erything seat an the was so the wist on the was so the wist on the was so the wist on the was so the wist on t\n",
            "==================================================\n",
            "Iteration #: 3\n",
            "1237/1237 [==============================] - 5s 4ms/step - loss: 1.8588\n",
            "Generating from seed: s and shoe\n",
            "s and shoed to said the coust of the the harded alice the the harded alice the the harded alice the the harded\n",
            "==================================================\n",
            "Iteration #: 4\n",
            "1237/1237 [==============================] - 6s 5ms/step - loss: 1.7928\n",
            "Generating from seed:  with one \n",
            " with one said the dont with the said the dont with the said the dont with the said the dont with the said the\n",
            "==================================================\n",
            "Iteration #: 5\n",
            "1237/1237 [==============================] - 5s 4ms/step - loss: 1.7369\n",
            "Generating from seed: bough of a\n",
            "bough of a little the dont the dont the dont the dont the dont the dont the dont the dont the dont the dont th\n",
            "==================================================\n",
            "Iteration #: 6\n",
            "1237/1237 [==============================] - 5s 4ms/step - loss: 1.6921\n",
            "Generating from seed: g and retu\n",
            "g and retuse to be was a little said the dormouse of the say she was a little said the dormouse of the say she\n",
            "==================================================\n",
            "Iteration #: 7\n",
            "1237/1237 [==============================] - 5s 4ms/step - loss: 1.6536\n",
            "Generating from seed: long passa\n",
            "long passare could the really soon a little said the reache she had to her her her her her her her her her her\n",
            "==================================================\n",
            "Iteration #: 8\n",
            "1237/1237 [==============================] - 5s 4ms/step - loss: 1.6223\n",
            "Generating from seed: nd that sh\n",
            "nd that she was the dingread the door the mone of the coust on the could the dormouse the door the mone of the\n",
            "==================================================\n",
            "Iteration #: 9\n",
            "1237/1237 [==============================] - 5s 4ms/step - loss: 1.5929\n",
            "Generating from seed:  outside t\n",
            " outside the mouse to the parted to her alice was the mouse to the parted to her alice was the mouse to the pa\n",
            "==================================================\n",
            "Iteration #: 10\n",
            "1237/1237 [==============================] - 5s 4ms/step - loss: 1.5688\n",
            "Generating from seed: u tell me,\n",
            "u tell me, said the cat or with a little be a sone the say was a little be a sone the say was a little be a so\n",
            "==================================================\n",
            "Iteration #: 11\n",
            "1237/1237 [==============================] - 5s 4ms/step - loss: 1.5466\n",
            "Generating from seed: nt back fo\n",
            "nt back for a said alice with a long alice and said to herself of the queen said to herself of the queen said \n",
            "==================================================\n",
            "Iteration #: 12\n",
            "1237/1237 [==============================] - 5s 4ms/step - loss: 1.5272\n",
            "Generating from seed: ck of one \n",
            "ck of one of the coust of the coust of the coust of the coust of the coust of the coust of the coust of the co\n",
            "==================================================\n",
            "Iteration #: 13\n",
            "1237/1237 [==============================] - 5s 4ms/step - loss: 1.5101\n",
            "Generating from seed: t, and gra\n",
            "t, and grang the mouse was sold the mouse was sold the mouse was sold the mouse was sold the mouse was sold th\n",
            "==================================================\n",
            "Iteration #: 14\n",
            "1237/1237 [==============================] - 5s 4ms/step - loss: 1.4945\n",
            "Generating from seed: isplaying \n",
            "isplaying and the project gutenberg-tm electronic works who said the caterpillar a pleased the queen the said \n",
            "==================================================\n",
            "Iteration #: 15\n",
            "1237/1237 [==============================] - 5s 4ms/step - loss: 1.4808\n",
            "Generating from seed: r very ear\n",
            "r very eard in a little said alice, and said the door and have to alice can out of the work alice, and said th\n",
            "==================================================\n",
            "Iteration #: 16\n",
            "1237/1237 [==============================] - 5s 4ms/step - loss: 1.4677\n",
            "Generating from seed: h, and was\n",
            "h, and was the mock turtle so said the mock turtle so said the mock turtle so said the mock turtle so said the\n",
            "==================================================\n",
            "Iteration #: 17\n",
            "1237/1237 [==============================] - 5s 4ms/step - loss: 1.4571\n",
            "Generating from seed: atter. he \n",
            "atter. he was nothing of the end of the mouse to persen work the mouse to persen work the mouse to persen work\n",
            "==================================================\n",
            "Iteration #: 18\n",
            "1237/1237 [==============================] - 5s 4ms/step - loss: 1.4458\n",
            "Generating from seed: rovided th\n",
            "rovided the gryphon a little be a sore took her alice and so she was a little be a sore took her alice and so \n",
            "==================================================\n",
            "Iteration #: 19\n",
            "1237/1237 [==============================] - 5s 4ms/step - loss: 1.4362\n",
            "Generating from seed: in. ive a \n",
            "in. ive a section in a long said the court with the whole the white rabbit she said to herself, and she was so\n",
            "==================================================\n",
            "Iteration #: 20\n",
            "1237/1237 [==============================] - 5s 4ms/step - loss: 1.4277\n",
            "Generating from seed: rabbit in \n",
            "rabbit in the little gind of course the little gind of course the little gind of course the little gind of cou\n",
            "==================================================\n",
            "Iteration #: 21\n",
            "1237/1237 [==============================] - 5s 4ms/step - loss: 1.4189\n",
            "Generating from seed: d she went\n",
            "d she went on, the duchess to the door a little shall i dont she went on, the duchess to the door a little sha\n",
            "==================================================\n",
            "Iteration #: 22\n",
            "1237/1237 [==============================] - 5s 4ms/step - loss: 1.4120\n",
            "Generating from seed: ng too. ye\n",
            "ng too. yet eat the gryphon and and the gryphon and and the gryphon and and the gryphon and and the gryphon an\n",
            "==================================================\n",
            "Iteration #: 23\n",
            "1237/1237 [==============================] - 5s 4ms/step - loss: 1.4045\n",
            "Generating from seed: ecause the\n",
            "ecause the gryphon they way she was something alice was something alice was something alice was something alic\n",
            "==================================================\n",
            "Iteration #: 24\n",
            "1237/1237 [==============================] - 5s 4ms/step - loss: 1.3983\n",
            "Generating from seed:  not, ill \n",
            " not, ill the tried to see the dormouse the gryphon. the tarted the dormouse the gryphon. the tarted the dormo\n"
          ]
        }
      ],
      "source": [
        "for iteration in range(NUM_ITERATIONS):\n",
        "    print(\"=\" * 50)\n",
        "    print(\"Iteration #: %d\" % (iteration))\n",
        "    model.fit(X, y, batch_size=BATCH_SIZE, epochs=NUM_EPOCHS_PER_ITERATION)\n",
        "\n",
        "    # testing model\n",
        "    # randomly choose a row from input_chars, then use it to\n",
        "    # generate text from model for next 100 chars\n",
        "    test_idx = np.random.randint(len(input_chars))\n",
        "    test_chars = input_chars[test_idx]\n",
        "    print(\"Generating from seed: %s\" % (test_chars))\n",
        "    print(test_chars, end=\"\")\n",
        "    for i in range(NUM_PREDS_PER_EPOCH):\n",
        "        Xtest = np.zeros((1, SEQLEN, nb_chars))\n",
        "        for i, ch in enumerate(test_chars):\n",
        "            Xtest[0, i, char2index[ch]] = 1\n",
        "        pred = model.predict(Xtest, verbose=0)[0]\n",
        "        ypred = index2char[np.argmax(pred)]\n",
        "        print(ypred, end=\"\")\n",
        "        # move forward with test_chars + ypred\n",
        "        test_chars = test_chars[1:] + ypred\n",
        "    print()\n"
      ]
    },
    {
      "cell_type": "markdown",
      "metadata": {
        "id": "KXjvnFK6p6og"
      },
      "source": [
        "This example shows how we can train a Simple RNN to predict the next charaters, using the information from the sequentail relationship between words in the training text.\n",
        "You can try the same code on a different, longer text, or try different hyperparameters.\n",
        "\n",
        "We are now ready to try a more complex RNN architecture, for more complex time series tasks.\n"
      ]
    },
    {
      "cell_type": "markdown",
      "metadata": {
        "id": "wY5Pe1aCp6oi"
      },
      "source": [
        "2 - LSTM for Sentiment Analysis\n",
        "=========\n",
        "\n",
        "This example will show how to code the more complex RNN model of the Long Short Term Memmory (LSTM) network. This tutorial will use the example of sentiment analysis prediction.\n",
        "\n",
        "Let's start with the usual importing of Keras and utility modules. This will of course include the LSTM recurrent layer type.\n"
      ]
    },
    {
      "cell_type": "code",
      "execution_count": 50,
      "metadata": {
        "id": "FJqODAGwp6ok",
        "colab": {
          "base_uri": "https://localhost:8080/"
        },
        "outputId": "7e633c61-01e5-4d34-8737-98a5f9509da9"
      },
      "outputs": [
        {
          "output_type": "stream",
          "name": "stdout",
          "text": [
            "Initialisation Done! Make sure you have initialised ntlk punkt\n"
          ]
        },
        {
          "output_type": "stream",
          "name": "stderr",
          "text": [
            "[nltk_data] Downloading package punkt to /root/nltk_data...\n",
            "[nltk_data]   Package punkt is already up-to-date!\n"
          ]
        }
      ],
      "source": [
        "from tensorflow.keras.layers import Activation, Dense, Dropout, SpatialDropout1D\n",
        "from tensorflow.keras.layers import Embedding\n",
        "from tensorflow.keras.layers import LSTM\n",
        "from tensorflow.keras.models import Sequential\n",
        "from tensorflow.keras.preprocessing import sequence\n",
        "from sklearn.model_selection import train_test_split\n",
        "import collections\n",
        "import matplotlib.pyplot as plt\n",
        "import nltk\n",
        "nltk.download('punkt') # download instruction required if pubkt nltk package not installed\n",
        "import numpy as np\n",
        "import os\n",
        "\n",
        "print(\"Initialisation Done! Make sure you have initialised ntlk punkt\")"
      ]
    },
    {
      "cell_type": "markdown",
      "metadata": {
        "id": "X8a2MWghp6oq"
      },
      "source": [
        "Let's now define the main hyperparameter values and text corpus details.\n"
      ]
    },
    {
      "cell_type": "code",
      "execution_count": 51,
      "metadata": {
        "id": "__8WvCXSp6ot"
      },
      "outputs": [],
      "source": [
        "INPUT_FILE = \"umich-sentiment-train.txt\"\n",
        "\n",
        "EMBEDDING_SIZE = 128\n",
        "HIDDEN_LAYER_SIZE = 64\n",
        "BATCH_SIZE = 32\n",
        "NUM_EPOCHS = 10\n"
      ]
    },
    {
      "cell_type": "markdown",
      "metadata": {
        "id": "QpXCUzwep6oz"
      },
      "source": [
        "**Analysis of words in corpus**\n",
        "\n",
        "This code load the text from the UMICH labelled sentiment analysis corpus file, to identify the number of unique words (length of the __word_freq__ variable, i.e. 2313) and the max number of words in the longest sentence (__maxlen__ expected to be 42). These two variables will be needed later for the preaparation of the training set.\n"
      ]
    },
    {
      "cell_type": "code",
      "execution_count": 52,
      "metadata": {
        "id": "E63yJkoMp6o1",
        "colab": {
          "base_uri": "https://localhost:8080/"
        },
        "outputId": "561e0e0a-d727-42f8-f900-f6da72cc3f41"
      },
      "outputs": [
        {
          "output_type": "stream",
          "name": "stdout",
          "text": [
            "42\n",
            "2259\n"
          ]
        }
      ],
      "source": [
        "# Read training data and generate vocabulary\n",
        "maxlen = 0\n",
        "word_freqs = collections.Counter()\n",
        "num_recs = 0\n",
        "\n",
        "ftrain = open(INPUT_FILE)\n",
        "lines = ftrain.readlines()\n",
        "i = 0\n",
        "for line in lines:\n",
        "    # label, sentence = line.strip().split(\"\\t\")\n",
        "    # print(label, sentence)\n",
        "    # words = nltk.word_tokenize(sentence.decode(\"ascii\", \"ignore\").lower())\n",
        "    line = line.strip()\n",
        "    if len(line) == 0:\n",
        "      continue\n",
        "    label, sentence = line[0], line[2:]\n",
        "    words = nltk.word_tokenize(sentence.lower())\n",
        "    if len(words) > maxlen:\n",
        "        maxlen = len(words)\n",
        "    for word in words:\n",
        "        word_freqs[word] += 1\n",
        "    num_recs += 1\n",
        "    i += 1\n",
        "ftrain.close()\n",
        "\n",
        "## Get some information about our corpus\n",
        "print (maxlen)            # 42\n",
        "print (len(word_freqs))   # 2313"
      ]
    },
    {
      "cell_type": "markdown",
      "metadata": {
        "id": "ZiqZt7Dlp6pB"
      },
      "source": [
        "**Unkown word and padding word and lookup tables**\n",
        "\n",
        "Knowing the number of unique words will permit the identification of the out of vocabulary (OOV) words, which can be replaced by the pseudo-word \"UNK\" (for unknown). When testing the network prediction, this will allow us to handle previously unseen OOV words.\n",
        "\n",
        "We can decide a fixed sequence length by truncating longer sentences to that length as appropriate (__MAX_SENTENCE_LENGTH = 40__). We also use the PAD to make shorter sentence equivalent to the fixed max length.\n",
        "\n",
        "Overall, we set our VOCABULARY_SIZE to 2002. i.e. 2,000 words from our vocabulary plus the UNK pseudo-word and the PAD pseudo word used for padding sentences up to the max length.\n",
        "\n",
        "We then create the look-up tables. Each row of input to the network is a sequence of word indices, where the indices are ordered by most frequent to least frequent word in the training set."
      ]
    },
    {
      "cell_type": "code",
      "execution_count": 53,
      "metadata": {
        "id": "abPruGn0p6pD"
      },
      "outputs": [],
      "source": [
        "MAX_FEATURES = 2000\n",
        "MAX_SENTENCE_LENGTH = 40\n",
        "\n",
        "# 1 is UNK, 0 is PAD\n",
        "# We take MAX_FEATURES-1 featurs to accound for PAD\n",
        "vocab_size = min(MAX_FEATURES, len(word_freqs)) + 2\n",
        "word2index = {x[0]: i+2 for i, x in\n",
        "                enumerate(word_freqs.most_common(MAX_FEATURES))}\n",
        "word2index[\"PAD\"] = 0\n",
        "word2index[\"UNK\"] = 1\n",
        "index2word = {v:k for k, v in word2index.items()}\n"
      ]
    },
    {
      "cell_type": "markdown",
      "metadata": {
        "id": "ivjEnz11p6pI"
      },
      "source": [
        "**Prepare training sequences**\n",
        "\n",
        "The input sentences need to be converted to  word index sequences (inlcuding their padiing to the max sequecne length).\n",
        "No procesing required for the output, as this is a positive/negative binary sentiment output.\n"
      ]
    },
    {
      "cell_type": "code",
      "execution_count": 54,
      "metadata": {
        "id": "xA9RgxaDp6pK",
        "colab": {
          "base_uri": "https://localhost:8080/"
        },
        "outputId": "bbe23389-0eec-48c8-adc7-2d137a37547c"
      },
      "outputs": [
        {
          "output_type": "stream",
          "name": "stdout",
          "text": [
            "(5581, 40) (1396, 40) (5581,) (1396,)\n"
          ]
        }
      ],
      "source": [
        "# convert sentences to sequences\n",
        "X = np.empty((num_recs, ), dtype=list)\n",
        "y = np.zeros((num_recs, ))\n",
        "i = 0\n",
        "ftrain = open(INPUT_FILE)\n",
        "lines = ftrain.readlines()\n",
        "for line in lines:\n",
        "    # label, sentence = line.strip().split(b\"\\t\")\n",
        "    # words = nltk.word_tokenize(sentence.decode(\"ascii\", \"ignore\").lower())\n",
        "    line = line.strip()\n",
        "    if len(line) == 0:\n",
        "      continue\n",
        "    label, sentence = line[0], line[2:]\n",
        "    words = nltk.word_tokenize(sentence.lower())\n",
        "    seqs = []\n",
        "    for word in words:\n",
        "        if word in word2index:\n",
        "            seqs.append(word2index[word])\n",
        "        else:\n",
        "            seqs.append(word2index[\"UNK\"])\n",
        "    X[i] = seqs\n",
        "    y[i] = int(label)\n",
        "    i += 1\n",
        "ftrain.close()\n",
        "\n",
        "# Pad the sequences (left padded with zeros)\n",
        "X = sequence.pad_sequences(X, maxlen=MAX_SENTENCE_LENGTH)\n",
        "\n",
        "# Split input into training and test\n",
        "Xtrain, Xtest, ytrain, ytest = train_test_split(X, y, test_size=0.2, random_state=42)\n",
        "print(Xtrain.shape, Xtest.shape, ytrain.shape, ytest.shape)"
      ]
    },
    {
      "cell_type": "markdown",
      "metadata": {
        "id": "3x4dQwv_p6pQ"
      },
      "source": [
        "**Model building and compilation**\n",
        "\n",
        "The codes defines the LSTM model topology, as per figure below. This is a stdnard recurrent network with one layer of LSTM units.\n",
        "\n",
        "![image.png](attachment:image.png)\n"
      ]
    },
    {
      "cell_type": "code",
      "execution_count": 55,
      "metadata": {
        "id": "7MKE0uglp6pR",
        "colab": {
          "base_uri": "https://localhost:8080/"
        },
        "outputId": "991c216c-2bae-4a26-cecd-fb33092c26af"
      },
      "outputs": [
        {
          "output_type": "stream",
          "name": "stderr",
          "text": [
            "WARNING:tensorflow:Layer lstm will not use cuDNN kernels since it doesn't meet the criteria. It will use a generic GPU kernel as fallback when running on GPU.\n"
          ]
        },
        {
          "output_type": "stream",
          "name": "stdout",
          "text": [
            "Model: \"sequential_1\"\n",
            "_________________________________________________________________\n",
            " Layer (type)                Output Shape              Param #   \n",
            "=================================================================\n",
            " embedding (Embedding)       (None, 40, 128)           256256    \n",
            "                                                                 \n",
            " spatial_dropout1d (Spatial  (None, 40, 128)           0         \n",
            " Dropout1D)                                                      \n",
            "                                                                 \n",
            " lstm (LSTM)                 (None, 64)                49408     \n",
            "                                                                 \n",
            " dense_1 (Dense)             (None, 1)                 65        \n",
            "                                                                 \n",
            " activation_1 (Activation)   (None, 1)                 0         \n",
            "                                                                 \n",
            "=================================================================\n",
            "Total params: 305729 (1.17 MB)\n",
            "Trainable params: 305729 (1.17 MB)\n",
            "Non-trainable params: 0 (0.00 Byte)\n",
            "_________________________________________________________________\n"
          ]
        }
      ],
      "source": [
        "# Build model\n",
        "model = Sequential()\n",
        "model.add(Embedding(vocab_size, EMBEDDING_SIZE, input_length=MAX_SENTENCE_LENGTH))\n",
        "model.add(SpatialDropout1D(0.2))\n",
        "model.add(LSTM(HIDDEN_LAYER_SIZE, dropout=0.2, recurrent_dropout=0.2))\n",
        "model.add(Dense(1))\n",
        "model.add(Activation(\"sigmoid\"))\n",
        "\n",
        "model.compile(loss=\"binary_crossentropy\", optimizer=\"adam\", metrics=[\"accuracy\"])\n",
        "\n",
        "#show the model summary\n",
        "model.summary()\n"
      ]
    },
    {
      "cell_type": "markdown",
      "metadata": {
        "id": "oRy2C7YJp6pV"
      },
      "source": [
        "**Training of the model**\n",
        "\n",
        "Let's train our LSTM RNN.\n",
        "The model uses the binary cross-entropy loss function, suitable for binary value prediction. The Adam optimizer is one of the best and most frequently used general purpose optimizers.\n"
      ]
    },
    {
      "cell_type": "code",
      "execution_count": 58,
      "metadata": {
        "id": "aDc6PUGfp6pX",
        "colab": {
          "base_uri": "https://localhost:8080/"
        },
        "outputId": "264e48cc-3bdd-4b07-83c0-b9f0ab74e129"
      },
      "outputs": [
        {
          "output_type": "stream",
          "name": "stdout",
          "text": [
            "Epoch 1/10\n",
            "175/175 [==============================] - 39s 184ms/step - loss: 0.2267 - accuracy: 0.9006 - val_loss: 0.0597 - val_accuracy: 0.9792\n",
            "Epoch 2/10\n",
            "175/175 [==============================] - 24s 136ms/step - loss: 0.0244 - accuracy: 0.9932 - val_loss: 0.0370 - val_accuracy: 0.9893\n",
            "Epoch 3/10\n",
            "175/175 [==============================] - 24s 135ms/step - loss: 0.0089 - accuracy: 0.9986 - val_loss: 0.0369 - val_accuracy: 0.9864\n",
            "Epoch 4/10\n",
            "175/175 [==============================] - 24s 136ms/step - loss: 0.0048 - accuracy: 0.9987 - val_loss: 0.0436 - val_accuracy: 0.9850\n",
            "Epoch 5/10\n",
            "175/175 [==============================] - 25s 140ms/step - loss: 0.0024 - accuracy: 0.9996 - val_loss: 0.0419 - val_accuracy: 0.9885\n",
            "Epoch 6/10\n",
            "175/175 [==============================] - 24s 135ms/step - loss: 0.0027 - accuracy: 0.9993 - val_loss: 0.0389 - val_accuracy: 0.9900\n",
            "Epoch 7/10\n",
            "175/175 [==============================] - 23s 134ms/step - loss: 6.8051e-04 - accuracy: 0.9998 - val_loss: 0.0378 - val_accuracy: 0.9936\n",
            "Epoch 8/10\n",
            "175/175 [==============================] - 25s 140ms/step - loss: 5.6177e-04 - accuracy: 0.9998 - val_loss: 0.0444 - val_accuracy: 0.9900\n",
            "Epoch 9/10\n",
            "175/175 [==============================] - 24s 135ms/step - loss: 0.0011 - accuracy: 0.9996 - val_loss: 0.0390 - val_accuracy: 0.9893\n",
            "Epoch 10/10\n",
            "175/175 [==============================] - 23s 134ms/step - loss: 0.0010 - accuracy: 0.9996 - val_loss: 0.0373 - val_accuracy: 0.9907\n"
          ]
        }
      ],
      "source": [
        "history = model.fit(Xtrain, ytrain, batch_size=BATCH_SIZE, epochs=NUM_EPOCHS, validation_data=(Xtest, ytest))"
      ]
    },
    {
      "cell_type": "markdown",
      "metadata": {
        "id": "hwTrIcuLp6pk"
      },
      "source": [
        "**Plotting of the results**\n",
        "\n",
        "The code below will produce accuracy and loss plots for training and validation data.\n"
      ]
    },
    {
      "cell_type": "code",
      "execution_count": 59,
      "metadata": {
        "id": "j1c-1aJFp6pl",
        "colab": {
          "base_uri": "https://localhost:8080/",
          "height": 486
        },
        "outputId": "4d4ea0e8-1ec0-475a-a23f-c80657b1f40b"
      },
      "outputs": [
        {
          "output_type": "display_data",
          "data": {
            "text/plain": [
              "<Figure size 640x480 with 2 Axes>"
            ],
            "image/png": "[encoded data removed]"
          },
          "metadata": {}
        }
      ],
      "source": [
        "# plot loss and accuracy\n",
        "plt.subplot(211)\n",
        "plt.title(\"Accuracy\")\n",
        "plt.plot(history.history[\"accuracy\"], color=\"g\", label=\"Train\")\n",
        "plt.plot(history.history[\"val_accuracy\"], color=\"b\", label=\"Validation\")\n",
        "plt.legend(loc=\"best\")\n",
        "\n",
        "plt.subplot(212)\n",
        "plt.title(\"Loss\")\n",
        "plt.plot(history.history[\"loss\"], color=\"g\", label=\"Train\")\n",
        "plt.plot(history.history[\"val_loss\"], color=\"b\", label=\"Validation\")\n",
        "plt.legend(loc=\"best\")\n",
        "\n",
        "plt.tight_layout()\n",
        "plt.show()\n"
      ]
    },
    {
      "cell_type": "markdown",
      "metadata": {
        "id": "U99eFGdup6pp"
      },
      "source": [
        "**Evaluation of the model**\n",
        "\n",
        "The model is evaluated against the full test set, printing the score and accuracy.\n",
        "The code also generates a few random sentences from the test set and prints the model's prediction, the label and the actual sentence. This will give us an idea of the quality of the prediction.\n"
      ]
    },
    {
      "cell_type": "code",
      "execution_count": 60,
      "metadata": {
        "id": "C57xXLt0p6pq",
        "colab": {
          "base_uri": "https://localhost:8080/"
        },
        "outputId": "1f8db977-b5df-4df2-c2e5-6bde294169f0"
      },
      "outputs": [
        {
          "output_type": "stream",
          "name": "stdout",
          "text": [
            "44/44 [==============================] - 1s 14ms/step - loss: 0.0373 - accuracy: 0.9907\n",
            "Test score: 0.037, accuracy: 0.991\n",
            "1/1 [==============================] - 0s 248ms/step\n",
            "1\t1\the 's like , 'yeah i got acne and i love brokeback mountain ' ..\n",
            "1/1 [==============================] - 0s 28ms/step\n",
            "0\t0\tas i sit here , watching the mtv movie awards , i am reminded of how much i despised the movie brokeback mountain .\n",
            "1/1 [==============================] - 0s 26ms/step\n",
            "0\t0\tharry potter dragged draco malfoy ’ s trousers down past his hips and sucked him into his throat with vigor , making whimpering noises and panting and groaning around the blonds rock-hard , aching cock ...\n",
            "1/1 [==============================] - 0s 29ms/step\n",
            "1\t1\ti went to little vic 's bday party and saw mission impossible 3 which was just so awesome .\n",
            "1/1 [==============================] - 0s 30ms/step\n",
            "0\t0\ti did UNK once , UNK a new UNK , and left two stupid / short UNK on the brokeback mountain board .\n"
          ]
        }
      ],
      "source": [
        "# evaluate\n",
        "score, acc = model.evaluate(Xtest, ytest, batch_size=BATCH_SIZE)\n",
        "print(\"Test score: %.3f, accuracy: %.3f\" % (score, acc))\n",
        "\n",
        "for i in range(5):\n",
        "    idx = np.random.randint(len(Xtest))\n",
        "    xtest = Xtest[idx].reshape(1,40)\n",
        "    ylabel = ytest[idx]\n",
        "    ypred = model.predict(xtest)[0][0]\n",
        "    sent = \" \".join([index2word[x] for x in xtest[0].tolist() if x != 0])\n",
        "    print(\"%.0f\\t%d\\t%s\" % (ypred, ylabel, sent))\n"
      ]
    },
    {
      "cell_type": "markdown",
      "metadata": {
        "id": "rIQKK-orp6px"
      },
      "source": [
        "Conclusions\n",
        "-------------\n",
        "\n",
        "This exercise finishes our short deep leanring course. You know have a pracyicla understanding of how to train a simple MLP (multi-Layer Perceptron), CNNs (Concolutional Neural Networks) with different layers, a simple RNN (Recurrent Neural network) and the more complex LSTM (Long Short Term Neural Network). Well done!\n",
        "\n",
        "**Copyright (c)** 2022 Angelo Cangelosi, MIT License. Code and examples adapted from Gulli & Pal (2017) Deep Learning with Keras. Punkt Publishing. With the support of Wenjie Huang."
      ]
    }
  ],
  "metadata": {
    "colab": {
      "provenance": [],
      "gpuType": "T4"
    },
    "kernelspec": {
      "display_name": "Python 3",
      "name": "python3"
    },
    "language_info": {
      "codemirror_mode": {
        "name": "ipython",
        "version": 3
      },
      "file_extension": ".py",
      "mimetype": "text/x-python",
      "name": "python",
      "nbconvert_exporter": "python",
      "pygments_lexer": "ipython3",
      "version": "3.6.12"
    },
    "accelerator": "GPU"
  },
  "nbformat": 4,
  "nbformat_minor": 0
}